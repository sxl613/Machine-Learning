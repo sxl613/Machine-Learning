{
 "cells": [
  {
   "cell_type": "markdown",
   "metadata": {},
   "source": [
    "This is a simple version of an anomaly detection algorithm. The datasets are taken from Andrew Ng's Coursera course on Machine Learning, week 8. "
   ]
  },
  {
   "cell_type": "code",
   "execution_count": 167,
   "metadata": {},
   "outputs": [],
   "source": [
    "import numpy as np\n",
    "import matplotlib.pyplot as plt\n",
    "import scipy.io\n",
    "%matplotlib inline"
   ]
  },
  {
   "cell_type": "code",
   "execution_count": 168,
   "metadata": {},
   "outputs": [],
   "source": [
    "# Load the data\n",
    "data1 = scipy.io.loadmat('ex8data1.mat')"
   ]
  },
  {
   "cell_type": "code",
   "execution_count": 169,
   "metadata": {},
   "outputs": [],
   "source": [
    "# Extract the training data\n",
    "X = np.array(data1['X'])\n",
    "y = np.array(data1['yval'])"
   ]
  },
  {
   "cell_type": "code",
   "execution_count": 170,
   "metadata": {},
   "outputs": [],
   "source": [
    "# Extract the validation data\n",
    "Xval = np.array(data1[\"Xval\"])\n",
    "yval = np.array(data1[\"yval\"])"
   ]
  },
  {
   "cell_type": "markdown",
   "metadata": {},
   "source": [
    "Checking the data, we have 307 training examples and 307 validation examples. The datasets have 2 features."
   ]
  },
  {
   "cell_type": "code",
   "execution_count": 171,
   "metadata": {},
   "outputs": [
    {
     "name": "stdout",
     "output_type": "stream",
     "text": [
      "(307, 2)\n",
      "(307, 1)\n",
      "(307, 2)\n",
      "(307, 1)\n"
     ]
    }
   ],
   "source": [
    "print(X.shape)\n",
    "print(y.shape)\n",
    "print(Xval.shape)\n",
    "print(yval.shape)"
   ]
  },
  {
   "cell_type": "code",
   "execution_count": 172,
   "metadata": {},
   "outputs": [],
   "source": [
    "# Reshape the y variables from (x, 1) to (x,)\n",
    "y = np.reshape(y, (y.shape[0],))\n",
    "yval = yval.reshape(yval.shape[0],)"
   ]
  },
  {
   "cell_type": "markdown",
   "metadata": {},
   "source": [
    "estimateGaussian will calculate the parameters of the Gaussian distribution used for classifying an example as an anomaly or not. Its argument is the training dataset.\n",
    "\n",
    "multivariateGaussian will compute the probability density function of the distribution. We pass in the parameters of the distribution itself (mu, vector of means and sigma, vector of variances) and the dataset for which we want to calculate the probabilities."
   ]
  },
  {
   "cell_type": "code",
   "execution_count": 173,
   "metadata": {},
   "outputs": [],
   "source": [
    "def estimateGaussian(X):\n",
    "    \"\"\"\n",
    "    Estimates the parameters of a Gaussian distribution using the data in X.\n",
    "    X is a (m x n) dataset.\n",
    "    The function returns (n x 1) vector mu, the mean of the data set\n",
    "    and (n x 1) vector sigma2, the variances\n",
    "    \"\"\"\n",
    "    (m, n) = X.shape\n",
    "    mu = np.zeros((n, 1))\n",
    "    sigma2 = np.zeros((n, 1))\n",
    "    mu = np.mean(X, axis = 0)\n",
    "    sigma2 = np.mean(np.square((X - np.transpose(mu))), axis = 0)\n",
    "    return (mu, sigma2)\n",
    "\n",
    "def multivariateGaussian(X, mu, sigma):\n",
    "    \"\"\" \n",
    "    Computes the probability density function of the multivariate gaussian distribution.\n",
    "    X is a (m x n) dataset\n",
    "    sigma is the variance vector\n",
    "    mu is the mean vector\n",
    "    Return the multivariate Gaussian distribution on array pos.\n",
    "    \"\"\"\n",
    "    sigma2 = np.diag(sigma)\n",
    "    n = mu.shape[0]\n",
    "    sigma_det = np.linalg.det(sigma2)\n",
    "    sigma_inv = np.linalg.inv(sigma2)\n",
    "    X = np.subtract(X, mu)\n",
    "    N = np.sqrt((2*np.pi)**n * sigma_det)\n",
    "    fac = np.sum(np.multiply(np.dot(X, sigma_inv), X), axis = 1)\n",
    "    return np.exp(-fac / 2) / N"
   ]
  },
  {
   "cell_type": "markdown",
   "metadata": {},
   "source": [
    "Calculate the parameters of the training data (mu, s). Calculate the probabilities of the training (p) and validation (pval) data."
   ]
  },
  {
   "cell_type": "code",
   "execution_count": 174,
   "metadata": {},
   "outputs": [
    {
     "data": {
      "image/png": "[encoded data removed]",
      "text/plain": [
       "<matplotlib.figure.Figure at 0x292afec2a90>"
      ]
     },
     "metadata": {},
     "output_type": "display_data"
    }
   ],
   "source": [
    "mu, s = estimateGaussian(X)  \n",
    "p = multivariate_gaussian(X, mu, s)\n",
    "pval = multivariate_gaussian(Xval, mu, s)\n",
    "\n",
    "# Plotting the dataset\n",
    "X_pos = X[y == 1]\n",
    "X_neg = X[y == 0]\n",
    "plt.plot(X_pos[:, 0], X_pos[:, 1], 'r^', label = \"Positive examples\")\n",
    "plt.plot(X_neg[:, 0], X_neg[:, 1], 'go', label  =\"Negative examples\")\n",
    "plt.title(\"ex8data1\")\n",
    "plt.xlabel('Latency (ms)');\n",
    "plt.ylabel('Throughput (mb/s)');\n",
    "plt.legend()\n",
    "plt.show()\n",
    "\n"
   ]
  },
  {
   "cell_type": "code",
   "execution_count": 175,
   "metadata": {},
   "outputs": [
    {
     "name": "stdout",
     "output_type": "stream",
     "text": [
      "(9, 2)\n"
     ]
    }
   ],
   "source": [
    "print(X_pos.shape)"
   ]
  },
  {
   "cell_type": "markdown",
   "metadata": {
    "scrolled": true
   },
   "source": [
    "We can see that there are 9 positive examples; ideally the system would pick up all 9, but because 3 are somewhere in the middle of the negative \"pile\", it's reasonable to expect that the system might have problems with classifying them as positive (they don't differ much compared to other negative examples). However, the 6 clearly visible positive examples should be classified as anomalies.\n",
    "\n",
    "selectThreshold will try to find the best epsilon based on the results of a validation dataset. The best epsilon in this case is the one that gives the best F1 score on the validation dataset."
   ]
  },
  {
   "cell_type": "code",
   "execution_count": 176,
   "metadata": {},
   "outputs": [],
   "source": [
    "def selectThreshold(y, p):\n",
    "    \"\"\"\n",
    "    Find the best epsilon for selecting outliers based on the results from a validation set (p) and the ground truth (y) \n",
    "    Calculates the F1 score and chooses the epsilon with the best one.\n",
    "    \"\"\"\n",
    "    bestEpsilon = 0\n",
    "    bestF1 = 0\n",
    "    F1 = 0\n",
    "    for epsilon in np.linspace(np.min(p), np.max(p), 1000):\n",
    "        pred = p < epsilon\n",
    "        fp = np.sum((pred == 1) & (y == 0))\n",
    "        fn = np.sum((pred == 0) & (y == 1))\n",
    "        tp = np.sum((pred == 1) & (y == 1))\n",
    "        if fp != 0 and tp != 0:\n",
    "            prec = tp / (tp + fp)\n",
    "        else:\n",
    "            prec = 0\n",
    "        if fn != 0 and tp != 0:\n",
    "            recall = tp / (tp + fn)\n",
    "        else:\n",
    "            recall = 0\n",
    "        if prec != 0 and recall != 0:\n",
    "            F1 = (2*prec*recall)/(prec + recall)\n",
    "        else:\n",
    "            F1 = 0\n",
    "        \n",
    "        if F1 > bestF1:\n",
    "            bestF1 = F1\n",
    "            bestEpsilon = epsilon\n",
    "    return bestEpsilon"
   ]
  },
  {
   "cell_type": "code",
   "execution_count": 177,
   "metadata": {},
   "outputs": [
    {
     "name": "stdout",
     "output_type": "stream",
     "text": [
      "(6, 2)\n"
     ]
    }
   ],
   "source": [
    "epsilon = selectThreshold(yval, pval)\n",
    "outliers = X[np.where(p < epsilon)]\n",
    "print(outliers.shape)"
   ]
  },
  {
   "cell_type": "markdown",
   "metadata": {},
   "source": [
    "6 examples are classified as anomalies. Plotting the dataset and circling the points we can see that they are exactly the scattered, \"different\" ones mentioned earlier."
   ]
  },
  {
   "cell_type": "code",
   "execution_count": 178,
   "metadata": {},
   "outputs": [
    {
     "data": {
      "image/png": "[encoded data removed]",
      "text/plain": [
       "<matplotlib.figure.Figure at 0x292affb2978>"
      ]
     },
     "metadata": {},
     "output_type": "display_data"
    }
   ],
   "source": [
    "ax = plt.gca()\n",
    "X_pos = X[y == 1]\n",
    "X_neg = X[y == 0]\n",
    "ax.plot(X_pos[:, 0], X_pos[:, 1], 'r^', label = \"Positive examples\")\n",
    "ax.plot(X_neg[:, 0], X_neg[:, 1], 'go', label  =\"Negative examples\")\n",
    "plt.title(\"ex8data1\")\n",
    "plt.xlabel('Latency (ms)');\n",
    "plt.ylabel('Throughput (mb/s)');\n",
    "for point in outliers:\n",
    "    c = plt.Circle((point[0], point[1]), 0.8, color='b', fill=False)\n",
    "    ax.add_artist(c)\n",
    "plt.legend()\n",
    "plt.show()"
   ]
  },
  {
   "cell_type": "markdown",
   "metadata": {},
   "source": [
    "ex8data2 is a higher dimensional dataset that will be both more realistic and much harder."
   ]
  },
  {
   "cell_type": "code",
   "execution_count": 179,
   "metadata": {},
   "outputs": [],
   "source": [
    "# Using the second dataset\n",
    "data2 = scipy.io.loadmat('ex8data2.mat')"
   ]
  },
  {
   "cell_type": "code",
   "execution_count": 180,
   "metadata": {},
   "outputs": [],
   "source": [
    "# Training data\n",
    "X = np.array(data2['X'])\n",
    "y = np.array(data2[\"yval\"])"
   ]
  },
  {
   "cell_type": "code",
   "execution_count": 181,
   "metadata": {},
   "outputs": [],
   "source": [
    "# Validation data\n",
    "Xval = np.array(data2[\"Xval\"])\n",
    "yval = np.array(data2[\"yval\"])"
   ]
  },
  {
   "cell_type": "code",
   "execution_count": 182,
   "metadata": {},
   "outputs": [
    {
     "name": "stdout",
     "output_type": "stream",
     "text": [
      "(1000, 11)\n",
      "(100, 1)\n",
      "(100, 11)\n",
      "(100, 1)\n"
     ]
    }
   ],
   "source": [
    "print(X.shape)\n",
    "print(y.shape)\n",
    "print(Xval.shape)\n",
    "print(yval.shape)"
   ]
  },
  {
   "cell_type": "markdown",
   "metadata": {},
   "source": [
    "We have 1000 training examples and 100 validation examples. The datasets have 11 features."
   ]
  },
  {
   "cell_type": "code",
   "execution_count": 183,
   "metadata": {},
   "outputs": [],
   "source": [
    "# Reshape the y variables from (x, 1) to (x,)\n",
    "yval = yval.reshape(yval.shape[0],)\n",
    "y = np.reshape(y, (y.shape[0],))"
   ]
  },
  {
   "cell_type": "markdown",
   "metadata": {},
   "source": [
    "Calculate the parameters of the training data (mu, s). Calculate the probabilities of the training (p) and validation (pval) data."
   ]
  },
  {
   "cell_type": "code",
   "execution_count": 184,
   "metadata": {},
   "outputs": [],
   "source": [
    "mu, s = estimateGaussian(X)\n",
    "p = multivariate_gaussian(X, mu, s)\n",
    "pval = multivariate_gaussian(Xval, mu, s)"
   ]
  },
  {
   "cell_type": "code",
   "execution_count": 185,
   "metadata": {},
   "outputs": [
    {
     "name": "stdout",
     "output_type": "stream",
     "text": [
      "(117, 11)\n"
     ]
    }
   ],
   "source": [
    "epsilon= selectThreshold(yval, pval)\n",
    "outliers = X[np.where(p < epsilon)]\n",
    "print(outliers.shape)\n"
   ]
  },
  {
   "cell_type": "markdown",
   "metadata": {},
   "source": [
    "The system classified 117 points as anomalies."
   ]
  }
 ],
 "metadata": {
  "kernelspec": {
   "display_name": "Python 3",
   "language": "python",
   "name": "python3"
  },
  "language_info": {
   "codemirror_mode": {
    "name": "ipython",
    "version": 3
   },
   "file_extension": ".py",
   "mimetype": "text/x-python",
   "name": "python",
   "nbconvert_exporter": "python",
   "pygments_lexer": "ipython3",
   "version": "3.5.4"
  }
 },
 "nbformat": 4,
 "nbformat_minor": 2
}
