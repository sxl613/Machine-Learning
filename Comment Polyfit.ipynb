{
 "cells": [
  {
   "cell_type": "code",
   "execution_count": 1,
   "metadata": {
    "collapsed": true
   },
   "outputs": [],
   "source": [
    "import numpy as np\n",
    "from PIL import Image\n",
    "from matplotlib import pyplot as plt\n",
    "%matplotlib inline"
   ]
  },
  {
   "cell_type": "code",
   "execution_count": 9,
   "metadata": {},
   "outputs": [
    {
     "data": {
      "image/png": "[encoded data removed]",
      "text/plain": [
       "<matplotlib.figure.Figure at 0x2b1df268748>"
      ]
     },
     "metadata": {},
     "output_type": "display_data"
    }
   ],
   "source": [
    "\"\"\"\n",
    "A simple least-sqaures fit for a Reddit comment looking like a parabola; the idea was to find a numerical solution\n",
    "for the resulting parabola. After loading the image, set all white-ish pixels to 255 and the rest to 0 \n",
    "(white-ish because I use a cutoff value) and use a linear regression to find the best fit.\n",
    "\n",
    "\n",
    "\"\"\"\n",
    "\n",
    "\n",
    "def comment_fit(path):\n",
    "    im = Image.open(path)\n",
    "    image = np.array(im.getdata(), dtype = np.uint8)\n",
    "    image = np.reshape(image, (59, 646, 4))\n",
    "    im = np.array(image[..., 0], dtype = np.uint8) # Using just one layer is alright in this case, so we can discard the rest\n",
    "    plt.imshow(image)                              # Plotting the input image\n",
    "    return image, im\n",
    "\n",
    "image, im = comment_fit(\"G:\\\\fit.png\")"
   ]
  },
  {
   "cell_type": "code",
   "execution_count": 10,
   "metadata": {},
   "outputs": [
    {
     "data": {
      "text/plain": [
       "(array([   1.,    0.,    2.,    0.,    1.,    3.,    1.,    3.,    4.,  631.]),\n",
       " array([ 134. ,  146.1,  158.2,  170.3,  182.4,  194.5,  206.6,  218.7,\n",
       "         230.8,  242.9,  255. ]),\n",
       " <a list of 10 Patch objects>)"
      ]
     },
     "execution_count": 10,
     "metadata": {},
     "output_type": "execute_result"
    },
    {
     "data": {
      "image/png": "[encoded data removed]",
      "text/plain": [
       "<matplotlib.figure.Figure at 0x2b1def62be0>"
      ]
     },
     "metadata": {},
     "output_type": "display_data"
    }
   ],
   "source": [
    "plt.hist(im[1]) # Histogram of the image pixel intensity values"
   ]
  },
  {
   "cell_type": "code",
   "execution_count": 11,
   "metadata": {},
   "outputs": [
    {
     "data": {
      "text/plain": [
       "<matplotlib.image.AxesImage at 0x2b1df36a438>"
      ]
     },
     "execution_count": 11,
     "metadata": {},
     "output_type": "execute_result"
    },
    {
     "data": {
      "image/png": "[encoded data removed]",
      "text/plain": [
       "<matplotlib.figure.Figure at 0x2b1da770fd0>"
      ]
     },
     "metadata": {},
     "output_type": "display_data"
    }
   ],
   "source": [
    "cutoff_value = 240    # Arbitrary value, 240 works well (most pixel intensity values lay in the 242 - 255 range, the rest are the black pixels we care about)\n",
    "im[im < cutoff_value] = 0\n",
    "im[im >= cutoff_value] = 255\n",
    "plt.imshow(im)"
   ]
  },
  {
   "cell_type": "code",
   "execution_count": 12,
   "metadata": {},
   "outputs": [],
   "source": [
    "coor = np.where(im == 0)\n",
    "x = coor[1]\n",
    "y = coor[0]"
   ]
  },
  {
   "cell_type": "code",
   "execution_count": 13,
   "metadata": {},
   "outputs": [
    {
     "data": {
      "image/png": "[encoded data removed]",
      "text/plain": [
       "<matplotlib.figure.Figure at 0x2b1df2ddef0>"
      ]
     },
     "metadata": {},
     "output_type": "display_data"
    }
   ],
   "source": [
    "# Model happens here; blue line is what the model predicted.\n",
    "fit = np.polyfit(x, y, 2)\n",
    "X = np.linspace(0, 646, num = 646)\n",
    "Y = [fit[2] + fit[1]*i + fit[0]*i**2 for i in X]\n",
    "plt.figure()\n",
    "plt.imshow(image)\n",
    "plt.plot(X, Y)\n",
    "plt.show()"
   ]
  }
 ],
 "metadata": {
  "kernelspec": {
   "display_name": "Python 3",
   "language": "python",
   "name": "python3"
  },
  "language_info": {
   "codemirror_mode": {
    "name": "ipython",
    "version": 3
   },
   "file_extension": ".py",
   "mimetype": "text/x-python",
   "name": "python",
   "nbconvert_exporter": "python",
   "pygments_lexer": "ipython3",
   "version": "3.6.1"
  }
 },
 "nbformat": 4,
 "nbformat_minor": 2
}
